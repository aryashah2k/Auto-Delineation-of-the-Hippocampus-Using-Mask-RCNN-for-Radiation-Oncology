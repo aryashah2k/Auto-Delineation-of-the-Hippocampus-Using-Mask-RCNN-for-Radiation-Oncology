{
 "cells": [
  {
   "cell_type": "code",
   "execution_count": 2,
   "id": "ef965342",
   "metadata": {},
   "outputs": [
    {
     "name": "stderr",
     "output_type": "stream",
     "text": [
      "Cloning into 'Custom_MaskRCNN'...\n",
      "Updating files:  33% (26/77)\n",
      "Updating files:  35% (27/77)\n",
      "Updating files:  36% (28/77)\n",
      "Updating files:  37% (29/77)\n",
      "Updating files:  38% (30/77)\n",
      "Updating files:  40% (31/77)\n",
      "Updating files:  41% (32/77)\n",
      "Updating files:  42% (33/77)\n",
      "Updating files:  44% (34/77)\n",
      "Updating files:  45% (35/77)\n",
      "Updating files:  46% (36/77)\n",
      "Updating files:  48% (37/77)\n",
      "Updating files:  49% (38/77)\n",
      "Updating files:  50% (39/77)\n",
      "Updating files:  51% (40/77)\n",
      "Updating files:  53% (41/77)\n",
      "Updating files:  54% (42/77)\n",
      "Updating files:  55% (43/77)\n",
      "Updating files:  57% (44/77)\n",
      "Updating files:  58% (45/77)\n",
      "Updating files:  59% (46/77)\n",
      "Updating files:  61% (47/77)\n",
      "Updating files:  62% (48/77)\n",
      "Updating files:  63% (49/77)\n",
      "Updating files:  64% (50/77)\n",
      "Updating files:  66% (51/77)\n",
      "Updating files:  67% (52/77)\n",
      "Updating files:  68% (53/77)\n",
      "Updating files:  70% (54/77)\n",
      "Updating files:  71% (55/77)\n",
      "Updating files:  72% (56/77)\n",
      "Updating files:  74% (57/77)\n",
      "Updating files:  75% (58/77)\n",
      "Updating files:  76% (59/77)\n",
      "Updating files:  77% (60/77)\n",
      "Updating files:  79% (61/77)\n",
      "Updating files:  80% (62/77)\n",
      "Updating files:  81% (63/77)\n",
      "Updating files:  83% (64/77)\n",
      "Updating files:  84% (65/77)\n",
      "Updating files:  85% (66/77)\n",
      "Updating files:  87% (67/77)\n",
      "Updating files:  88% (68/77)\n",
      "Updating files:  89% (69/77)\n",
      "Updating files:  90% (70/77)\n",
      "Updating files:  92% (71/77)\n",
      "Updating files:  93% (72/77)\n",
      "Updating files:  94% (73/77)\n",
      "Updating files:  96% (74/77)\n",
      "Updating files:  97% (75/77)\n",
      "Updating files:  98% (76/77)\n",
      "Updating files: 100% (77/77)\n",
      "Updating files: 100% (77/77), done.\n",
      "warning: the following paths have collided (e.g. case-sensitive paths\n",
      "on a case-insensitive filesystem) and only one from the same\n",
      "colliding group is in the working tree:\n",
      "\n",
      "  'samples/custom/README.md'\n",
      "  'samples/custom/readme.md'\n"
     ]
    }
   ],
   "source": [
    "!git clone https://github.com/soumyaiitkgp/Custom_MaskRCNN"
   ]
  },
  {
   "cell_type": "code",
   "execution_count": null,
   "id": "b4c8cd79",
   "metadata": {},
   "outputs": [],
   "source": []
  }
 ],
 "metadata": {
  "kernelspec": {
   "display_name": "Python 3 (ipykernel)",
   "language": "python",
   "name": "python3"
  },
  "language_info": {
   "codemirror_mode": {
    "name": "ipython",
    "version": 3
   },
   "file_extension": ".py",
   "mimetype": "text/x-python",
   "name": "python",
   "nbconvert_exporter": "python",
   "pygments_lexer": "ipython3",
   "version": "3.10.2"
  }
 },
 "nbformat": 4,
 "nbformat_minor": 5
}
